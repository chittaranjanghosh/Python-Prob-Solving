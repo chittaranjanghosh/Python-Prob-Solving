{
 "cells": [
  {
   "cell_type": "markdown",
   "metadata": {},
   "source": [
    "### 1.\tA company decided to give a bonus of 5% to an employee if his/her year of service is more than 5 years. Ask user for their salary and year of service and print the net bonus amount."
   ]
  },
  {
   "cell_type": "code",
   "execution_count": 8,
   "metadata": {},
   "outputs": [
    {
     "name": "stdout",
     "output_type": "stream",
     "text": [
      "Enter Salary:4000\n",
      "Year of service:5\n",
      "Net bonus amount: 5000.0\n"
     ]
    }
   ],
   "source": [
    "#bonus=b\n",
    "s=int(input(\"Enter Salary:\"))\n",
    "y=int(input(\"Year of service:\"))\n",
    "b=0\n",
    "if y>=5:\n",
    "    b=b+(s*y*5)/100\n",
    "    bonus=s+b\n",
    "    print(\"Net bonus amount:\",bonus)\n",
    "else:\n",
    "    print(\"You are not eligible for Bonus\")\n",
    "    "
   ]
  },
  {
   "cell_type": "markdown",
   "metadata": {},
   "source": [
    "#### 2.\tA school has following rules for grading system:\n",
    "-  Below 25 - F\n",
    "-  25 to 45 - E\n",
    "-  45 to 50 - D\n",
    "-  50 to 60 - C\n",
    "-  60 to 80 - B\n",
    "-  Above 80 - A\n",
    "#### Ask user to enter marks and print the corresponding grade.\n"
   ]
  },
  {
   "cell_type": "code",
   "execution_count": 18,
   "metadata": {},
   "outputs": [
    {
     "name": "stdout",
     "output_type": "stream",
     "text": [
      "Enter marks of subject 1:60\n",
      "Enter marks of subject 2:90\n",
      "Enter marks of subject 3:80\n",
      "Enter marks of subject 4:60\n",
      "Enter marks of subject 5:70\n",
      "your grade is B\n"
     ]
    }
   ],
   "source": [
    "sub1=int(input(\"Enter marks of subject 1:\"))\n",
    "sub2=int(input(\"Enter marks of subject 2:\"))\n",
    "sub3=int(input(\"Enter marks of subject 3:\"))\n",
    "sub4=int(input(\"Enter marks of subject 4:\"))\n",
    "sub5=int(input(\"Enter marks of subject 5:\"))\n",
    "sum=sub1+sub2+sub3+sub4+sub5\n",
    "avg=sum/5\n",
    "if avg>80:\n",
    "    print(\"Your grade is A:\")\n",
    "elif avg>60 and avg<80:\n",
    "        print(\"your grade is B\")\n",
    "elif avg>50 and avg<60:\n",
    "        print(\"your grade is C\")\n",
    "elif avg>45 and avg<50:\n",
    "        print(\"your grade is D\")  \n",
    "elif avg>25 and avg<45:\n",
    "        print(\"your grade is E\")\n",
    "else: \n",
    "       print(\"Your grade is F\")\n"
   ]
  },
  {
   "cell_type": "markdown",
   "metadata": {},
   "source": [
    "3.\tTake input as age of 3 people by user and determine oldest and youngest among them"
   ]
  },
  {
   "cell_type": "code",
   "execution_count": 4,
   "metadata": {},
   "outputs": [
    {
     "name": "stdout",
     "output_type": "stream",
     "text": [
      "Enter your age:20\n",
      "Enter your age:30\n",
      "Enter your age:90\n",
      "oldest people age is:  90\n",
      "youngest people age is:  20\n"
     ]
    }
   ],
   "source": [
    "num1=int(input(\"Enter your age:\"))\n",
    "num2=int(input(\"Enter your age:\"))\n",
    "num3=int(input(\"Enter your age:\"))\n",
    "list=[num1,num2,num3]\n",
    "print(\"oldest people age is: \",max(list))\n",
    "print(\"youngest people age is: \",min(list))\n",
    "   "
   ]
  },
  {
   "cell_type": "markdown",
   "metadata": {},
   "source": [
    "#### 4.\tA student will not be allowed to sit in an exam if his/her attendance is less than 75%.\n",
    "#### Take following input from user\n",
    "1.\tNumber of classes held\n",
    "2.\tNumber of classes attended.\n",
    "##### And print percentage of class attended and Is student is allowed to sit in exam or not.\n"
   ]
  },
  {
   "cell_type": "code",
   "execution_count": 14,
   "metadata": {},
   "outputs": [
    {
     "name": "stdout",
     "output_type": "stream",
     "text": [
      "Total number classes held: 70\n",
      "Total number classes attended: 50\n",
      "Your are not allowed to sit in exam as your  atendance is: 71%\n"
     ]
    }
   ],
   "source": [
    "num1=int(input(\"Total number classes held: \"))\n",
    "num2=int(input(\"Total number classes attended: \"))\n",
    "num=[num1,num2]\n",
    "num3=(num2*100)//num1\n",
    "if num3>75:\n",
    "    print(\"You are allowed to in exam and your attendace is: {}%\".format(num3))\n",
    "else:\n",
    "    print(\"Your are not allowed to sit in exam as your  atendance is: {}%\".format(num3))"
   ]
  },
  {
   "cell_type": "markdown",
   "metadata": {},
   "source": [
    "#### 5.\tWrite a program to print the absolute value of a number entered by the user. E.g.-\n",
    "#### INPUT: 1         OUTPUT: 1\n",
    "#### INPUT: -1        OUTPUT: 1"
   ]
  },
  {
   "cell_type": "code",
   "execution_count": 23,
   "metadata": {},
   "outputs": [
    {
     "name": "stdout",
     "output_type": "stream",
     "text": [
      "Enter a number: -12.009872\n",
      "The abolute value of the given number is: 12.009872\n"
     ]
    }
   ],
   "source": [
    "n=float(input(\"Enter a number: \"))\n",
    "absn=abs(n)\n",
    "print(\"The abolute value of the given number is: {}\".format(absn))"
   ]
  },
  {
   "cell_type": "code",
   "execution_count": null,
   "metadata": {},
   "outputs": [],
   "source": []
  }
 ],
 "metadata": {
  "kernelspec": {
   "display_name": "Python 3",
   "language": "python",
   "name": "python3"
  },
  "language_info": {
   "codemirror_mode": {
    "name": "ipython",
    "version": 3
   },
   "file_extension": ".py",
   "mimetype": "text/x-python",
   "name": "python",
   "nbconvert_exporter": "python",
   "pygments_lexer": "ipython3",
   "version": "3.8.3"
  }
 },
 "nbformat": 4,
 "nbformat_minor": 4
}
