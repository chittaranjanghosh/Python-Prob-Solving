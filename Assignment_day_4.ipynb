{
 "cells": [
  {
   "cell_type": "code",
   "execution_count": 20,
   "metadata": {},
   "outputs": [
    {
     "ename": "SyntaxError",
     "evalue": "invalid syntax (<ipython-input-20-3f83073238de>, line 5)",
     "output_type": "error",
     "traceback": [
      "\u001b[1;36m  File \u001b[1;32m\"<ipython-input-20-3f83073238de>\"\u001b[1;36m, line \u001b[1;32m5\u001b[0m\n\u001b[1;33m    s1.count(\"()\",1:17)\u001b[0m\n\u001b[1;37m                   ^\u001b[0m\n\u001b[1;31mSyntaxError\u001b[0m\u001b[1;31m:\u001b[0m invalid syntax\n"
     ]
    }
   ],
   "source": [
    "#3\n",
    "s1=\"((((()()()))))()\"\n",
    "s2=\"()\"\n",
    "#print(type(s1))\n",
    "s1.count(\"()\",1:17) "
   ]
  },
  {
   "cell_type": "code",
   "execution_count": 5,
   "metadata": {},
   "outputs": [
    {
     "name": "stdout",
     "output_type": "stream",
     "text": [
      "Enter the number: 23\n",
      "23 is NOT an Adam Number.\n"
     ]
    }
   ],
   "source": [
    "#4. \n",
    "\n",
    "def isAdam(num):\n",
    "    n = num\n",
    "    rev = 0\n",
    "    while n != 0:\n",
    "        rev = rev * 10 + n % 10\n",
    "        n = n // 10\n",
    "    squar_n = num ** 2      # square of the number\n",
    "    squar_r = rev ** 2      # square of the reverse\n",
    "    n = squar_r\n",
    "    rev = 0\n",
    "    while n != 0:\n",
    "        rev = rev * 10 + n % 10\n",
    "        n = n // 10\n",
    "    return squar_n == rev\n",
    "\n",
    "num = int(input(\"Enter the number: \"))\n",
    "if isAdam(num):\n",
    "    print(str(num) + \" is an Adam Number.\")\n",
    "else:\n",
    "    print(str(num) + \" is NOT an Adam Number.\")"
   ]
  },
  {
   "cell_type": "code",
   "execution_count": 11,
   "metadata": {},
   "outputs": [
    {
     "name": "stdout",
     "output_type": "stream",
     "text": [
      "Enter first string: listen\n",
      "Enter first string: silent\n",
      "The strings are anagrams.\n"
     ]
    }
   ],
   "source": [
    "#5.\n",
    "s1=str(input(\"Enter first string: \"))\n",
    "s2=str(input(\"Enter first string: \"))\n",
    "if(sorted(s1)==sorted(s2)):\n",
    "    print(\"The strings are anagrams.\")    \n",
    "else:\n",
    "    print(\"The strings aren't anagrams\")"
   ]
  },
  {
   "cell_type": "code",
   "execution_count": null,
   "metadata": {},
   "outputs": [],
   "source": []
  }
 ],
 "metadata": {
  "kernelspec": {
   "display_name": "Python 3",
   "language": "python",
   "name": "python3"
  },
  "language_info": {
   "codemirror_mode": {
    "name": "ipython",
    "version": 3
   },
   "file_extension": ".py",
   "mimetype": "text/x-python",
   "name": "python",
   "nbconvert_exporter": "python",
   "pygments_lexer": "ipython3",
   "version": "3.8.3"
  }
 },
 "nbformat": 4,
 "nbformat_minor": 4
}
